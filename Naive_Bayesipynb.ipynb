{
  "nbformat": 4,
  "nbformat_minor": 0,
  "metadata": {
    "colab": {
      "name": "Naive Bayesipynb",
      "provenance": [],
      "authorship_tag": "ABX9TyO4xe0/Ti5nt5/rjN9ZVg2P",
      "include_colab_link": true
    },
    "kernelspec": {
      "name": "python3",
      "display_name": "Python 3"
    },
    "language_info": {
      "name": "python"
    }
  },
  "cells": [
    {
      "cell_type": "markdown",
      "metadata": {
        "id": "view-in-github",
        "colab_type": "text"
      },
      "source": [
        "<a href=\"https://colab.research.google.com/github/mugilan0606/Weather-Prediction/blob/main/Naive_Bayesipynb.ipynb\" target=\"_parent\"><img src=\"https://colab.research.google.com/assets/colab-badge.svg\" alt=\"Open In Colab\"/></a>"
      ]
    },
    {
      "cell_type": "code",
      "metadata": {
        "id": "trXZpFFzwGj9"
      },
      "source": [
        "import numpy as np \n",
        "from sklearn.naive_bayes import GaussianNB \n",
        "from sklearn.metrics import accuracy_score \n",
        "from keras.utils import np_utils\n",
        "\n"
      ],
      "execution_count": null,
      "outputs": []
    },
    {
      "cell_type": "code",
      "metadata": {
        "id": "90RcAVo4wN5N"
      },
      "source": [
        "data = np.loadtxt(\"/content/W_data.txt\")"
      ],
      "execution_count": null,
      "outputs": []
    },
    {
      "cell_type": "code",
      "metadata": {
        "id": "RFLjRId4wc46"
      },
      "source": [
        "X_train = data[:4646,:12]\n",
        "Y_train = data[:4646,12:13] \n",
        "X_test = data[4646:6936,:12] \n",
        "Y_test = data[4646:6936,12:13] \n",
        "len_y_train = len(Y_train) \n",
        "len_y_test = len(Y_test)\n"
      ],
      "execution_count": null,
      "outputs": []
    },
    {
      "cell_type": "code",
      "metadata": {
        "colab": {
          "base_uri": "https://localhost:8080/"
        },
        "id": "g6RyRc_2whgC",
        "outputId": "3bde1795-02b7-48be-ef87-c4a362db5c5e"
      },
      "source": [
        "print('Shape of training data :',X_train.shape) \n",
        "print('Shape of testing data :',Y_test.shape)"
      ],
      "execution_count": null,
      "outputs": [
        {
          "output_type": "stream",
          "name": "stdout",
          "text": [
            "Shape of training data : (4646, 12)\n",
            "Shape of testing data : (2289, 1)\n"
          ]
        }
      ]
    },
    {
      "cell_type": "code",
      "metadata": {
        "id": "xVXR9Qbpw74H"
      },
      "source": [
        "for i in range(0,len_y_train): \n",
        "  if(Y_train[i]==1000):\n",
        "      Y_train[i] = 3\n",
        "      Y_train[i] = int(Y_train[i]) \n",
        "  elif(Y_train[i]==100):\n",
        "      Y_train[i] = 2\n",
        "      Y_train[i] = int(Y_train[i]) \n",
        "  elif(Y_train[i]==10):\n",
        "      Y_train[i] = 1\n",
        "      Y_train[i] = int(Y_train[i]) \n",
        "  elif(Y_train[i]==1):\n",
        "      Y_train[i] = 0\n",
        "      Y_train[i] = int(Y_train[i])\n"
      ],
      "execution_count": null,
      "outputs": []
    },
    {
      "cell_type": "code",
      "metadata": {
        "id": "qT36RgcVxOBD"
      },
      "source": [
        "for i in range(0,len_y_test):\n",
        "  if(Y_test[i]==1000):\n",
        "    Y_test[i] = 3\n",
        "    Y_test[i] = int(Y_test[i])\n",
        "  elif(Y_test[i]==100):\n",
        "    Y_test[i] = 2\n",
        "    Y_test[i] = int(Y_test[i])\n",
        "  elif(Y_test[i]==10):\n",
        "    Y_test[i] = 1\n",
        "    Y_test[i] = int(Y_test[i])\n",
        "  elif(Y_test[i]==1):\n",
        "    Y_test[i] = 0\n",
        "    Y_test[i] = int(Y_test[i])"
      ],
      "execution_count": null,
      "outputs": []
    },
    {
      "cell_type": "code",
      "metadata": {
        "id": "R2gQdnhIxfBc"
      },
      "source": [
        "def res(x):\n",
        "  if(x==0):\n",
        "    return 'ThunderStorm'\n",
        "  elif(x==1):\n",
        "    return 'Rainy'\n",
        "  elif(x==2):\n",
        "    return 'Foggy'\n",
        "  else:\n",
        "    return 'Sunny'"
      ],
      "execution_count": null,
      "outputs": []
    },
    {
      "cell_type": "code",
      "metadata": {
        "colab": {
          "base_uri": "https://localhost:8080/"
        },
        "id": "byarieOYxm7k",
        "outputId": "ead9a86b-a741-43aa-9d6e-e5fb3b5f0d3f"
      },
      "source": [
        "model = GaussianNB()\n",
        "model.fit(X_train,Y_train.ravel())\n",
        "predict_train = model.predict(X_train)\n",
        "print('Target on train data',predict_train)\n",
        "accuracy_train = accuracy_score(Y_train,predict_train)\n",
        "print('accuracy_score on train dataset : ', accuracy_train*100)"
      ],
      "execution_count": null,
      "outputs": [
        {
          "output_type": "stream",
          "name": "stdout",
          "text": [
            "Target on train data [2. 2. 2. ... 3. 0. 3.]\n",
            "accuracy_score on train dataset :  65.06672406371072\n"
          ]
        }
      ]
    },
    {
      "cell_type": "code",
      "metadata": {
        "id": "BIVyI9dzxyGo"
      },
      "source": [
        "predict_test = model.predict(X_test)"
      ],
      "execution_count": null,
      "outputs": []
    },
    {
      "cell_type": "code",
      "metadata": {
        "colab": {
          "base_uri": "https://localhost:8080/"
        },
        "id": "p-lfwaZ6x3W_",
        "outputId": "f0bc1e00-f73c-4649-e1de-8c50d142439e"
      },
      "source": [
        "accuracy_test = accuracy_score(Y_test,predict_test)\n",
        "print('accuracy_score on test dataset : ', accuracy_test*100)"
      ],
      "execution_count": null,
      "outputs": [
        {
          "output_type": "stream",
          "name": "stdout",
          "text": [
            "accuracy_score on test dataset :  61.9921363040629\n"
          ]
        }
      ]
    },
    {
      "cell_type": "code",
      "metadata": {
        "id": "TsS2fciUx6ky"
      },
      "source": [
        "pre_data = np.loadtxt('predict.txt').reshape(1, -1)\n",
        "pre_data=pre_data.astype('int32')"
      ],
      "execution_count": null,
      "outputs": []
    },
    {
      "cell_type": "code",
      "metadata": {
        "colab": {
          "base_uri": "https://localhost:8080/"
        },
        "id": "I8zGPQohyAU9",
        "outputId": "f2984981-d12d-4fec-8e56-3daf9d74add2"
      },
      "source": [
        "print('Input: ',pre_data)\n",
        "print (\"\\n \\t \\t \\t Weather would be\",res(model.predict(pre_data)))"
      ],
      "execution_count": null,
      "outputs": [
        {
          "output_type": "stream",
          "name": "stdout",
          "text": [
            "Input:  [[   1   35   21   11    3   53   14 1008 1005    8    3   37]]\n",
            "\n",
            " \t \t \t Weather would be Sunny\n"
          ]
        }
      ]
    }
  ]
}