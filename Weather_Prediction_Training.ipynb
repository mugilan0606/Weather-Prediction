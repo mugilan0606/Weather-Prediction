{
  "nbformat": 4,
  "nbformat_minor": 0,
  "metadata": {
    "colab": {
      "name": "Weather Prediction Training.ipynb",
      "provenance": [],
      "include_colab_link": true
    },
    "kernelspec": {
      "name": "python3",
      "display_name": "Python 3"
    },
    "language_info": {
      "name": "python"
    }
  },
  "cells": [
    {
      "cell_type": "markdown",
      "metadata": {
        "id": "view-in-github",
        "colab_type": "text"
      },
      "source": [
        "<a href=\"https://colab.research.google.com/github/mugilan0606/Weather-Prediction/blob/main/Weather_Prediction_Training.ipynb\" target=\"_parent\"><img src=\"https://colab.research.google.com/assets/colab-badge.svg\" alt=\"Open In Colab\"/></a>"
      ]
    },
    {
      "cell_type": "code",
      "metadata": {
        "id": "-SONVyDlDXzg"
      },
      "source": [
        "from keras.models import Sequential\n",
        "from keras.layers import Dense, Activation\n",
        "from keras.utils import np_utils\n",
        "import numpy as np"
      ],
      "execution_count": null,
      "outputs": []
    },
    {
      "cell_type": "code",
      "metadata": {
        "id": "E97bjEFpDgTd"
      },
      "source": [
        "seed = 7\n",
        "np.random.seed(seed)"
      ],
      "execution_count": null,
      "outputs": []
    },
    {
      "cell_type": "code",
      "metadata": {
        "id": "tF-TonXqK7WX"
      },
      "source": [
        "data = np.loadtxt(\"/W_data.txt\")"
      ],
      "execution_count": null,
      "outputs": []
    },
    {
      "cell_type": "code",
      "metadata": {
        "id": "XjV_e73AnCgj"
      },
      "source": [
        ""
      ],
      "execution_count": null,
      "outputs": []
    },
    {
      "cell_type": "code",
      "metadata": {
        "id": "fAnal8ICLOJa"
      },
      "source": [
        "X_train = data[:4646,:12]\n",
        "Y_train = data[:4646,12:13]\n",
        "X_test = data[4646:6936,:12]\n",
        "Y_test = data[4646:6936,12:13]"
      ],
      "execution_count": null,
      "outputs": []
    },
    {
      "cell_type": "code",
      "metadata": {
        "colab": {
          "base_uri": "https://localhost:8080/"
        },
        "id": "hyCui9NzLQjL",
        "outputId": "d0943dcc-9069-43f9-b0cb-35f72255a9ef"
      },
      "source": [
        "len_y_train = len(Y_train)\n",
        "len_y_test = len(Y_test)\n",
        "print(len(Y_train))\n",
        "print(len(Y_test))"
      ],
      "execution_count": null,
      "outputs": [
        {
          "output_type": "stream",
          "name": "stdout",
          "text": [
            "4646\n",
            "2289\n"
          ]
        }
      ]
    },
    {
      "cell_type": "code",
      "metadata": {
        "id": "E2XWM-4sLTKR"
      },
      "source": [
        "for i in range(0,len_y_train):\n",
        "    if(Y_train[i]==1000):\n",
        "        Y_train[i] = 3\n",
        "        Y_train[i] = int(Y_train[i])\n",
        "    elif(Y_train[i]==100):\n",
        "        Y_train[i] = 2\n",
        "        Y_train[i] = int(Y_train[i])\n",
        "    elif(Y_train[i]==10):\n",
        "        Y_train[i] = 1\n",
        "        Y_train[i] = int(Y_train[i])\n",
        "    elif(Y_train[i]==1):\n",
        "        Y_train[i] = 0\n",
        "        Y_train[i] = int(Y_train[i])"
      ],
      "execution_count": null,
      "outputs": []
    },
    {
      "cell_type": "code",
      "metadata": {
        "id": "bvAajF-kLW4P"
      },
      "source": [
        "for i in range(0,len_y_test):\n",
        "    if(Y_test[i]==1000):\n",
        "        Y_test[i] = 3\n",
        "        Y_test[i] = int(Y_test[i])\n",
        "    elif(Y_test[i]==100):\n",
        "        Y_test[i] = 2\n",
        "        Y_test[i] = int(Y_test[i])\n",
        "    elif(Y_test[i]==10):\n",
        "        Y_test[i] = 1\n",
        "        Y_test[i] = int(Y_test[i])\n",
        "    elif(Y_test[i]==1):\n",
        "        Y_test[i] = 0\n",
        "        Y_test[i] = int(Y_test[i])"
      ],
      "execution_count": null,
      "outputs": []
    },
    {
      "cell_type": "code",
      "metadata": {
        "colab": {
          "base_uri": "https://localhost:8080/"
        },
        "id": "HYkn3RHzLc8T",
        "outputId": "f589d8d4-a3df-40df-858a-f87a44e2936c"
      },
      "source": [
        "print(Y_train)\n",
        "print(Y_test)"
      ],
      "execution_count": null,
      "outputs": [
        {
          "output_type": "stream",
          "name": "stdout",
          "text": [
            "[[2.]\n",
            " [2.]\n",
            " [2.]\n",
            " ...\n",
            " [3.]\n",
            " [3.]\n",
            " [3.]]\n",
            "[[3.]\n",
            " [3.]\n",
            " [3.]\n",
            " ...\n",
            " [2.]\n",
            " [2.]\n",
            " [2.]]\n"
          ]
        }
      ]
    },
    {
      "cell_type": "code",
      "metadata": {
        "colab": {
          "base_uri": "https://localhost:8080/"
        },
        "id": "opBi_m4vLhX0",
        "outputId": "ce6daea9-caf5-466a-a6a5-202ccb26d2a4"
      },
      "source": [
        "Y_train = Y_train.astype('int32')\n",
        "Y_train = np_utils.to_categorical(Y_train,4)\n",
        "print(Y_train)"
      ],
      "execution_count": null,
      "outputs": [
        {
          "output_type": "stream",
          "name": "stdout",
          "text": [
            "[[0. 0. 1. 0.]\n",
            " [0. 0. 1. 0.]\n",
            " [0. 0. 1. 0.]\n",
            " ...\n",
            " [0. 0. 0. 1.]\n",
            " [0. 0. 0. 1.]\n",
            " [0. 0. 0. 1.]]\n"
          ]
        }
      ]
    },
    {
      "cell_type": "code",
      "metadata": {
        "id": "QGTuBNC2MKBA"
      },
      "source": [
        "Y_test = Y_test.astype('int32')\n",
        "Y_test = np_utils.to_categorical(Y_test,4)"
      ],
      "execution_count": null,
      "outputs": []
    },
    {
      "cell_type": "code",
      "metadata": {
        "id": "WJc2uTw5MPrg"
      },
      "source": [
        "model = Sequential()\n",
        "model.add(Dense(100, input_dim=12, kernel_initializer='uniform', activation='relu'))\n",
        "model.add(Dense(80, kernel_initializer='uniform', activation='relu'))\n",
        "model.add(Dense(60, kernel_initializer='uniform', activation='relu'))\n",
        "model.add(Dense(60, kernel_initializer='uniform', activation='relu'))\n",
        "model.add(Dense(4))\n",
        "model.add(Activation('softmax'))"
      ],
      "execution_count": null,
      "outputs": []
    },
    {
      "cell_type": "code",
      "metadata": {
        "colab": {
          "base_uri": "https://localhost:8080/"
        },
        "id": "tVZNm4izMk4R",
        "outputId": "aab7d8c8-fce3-43bf-9532-01e483b33e0b"
      },
      "source": [
        "model.summary()"
      ],
      "execution_count": null,
      "outputs": [
        {
          "output_type": "stream",
          "name": "stdout",
          "text": [
            "Model: \"sequential\"\n",
            "_________________________________________________________________\n",
            " Layer (type)                Output Shape              Param #   \n",
            "=================================================================\n",
            " dense (Dense)               (None, 100)               1300      \n",
            "                                                                 \n",
            " dense_1 (Dense)             (None, 80)                8080      \n",
            "                                                                 \n",
            " dense_2 (Dense)             (None, 60)                4860      \n",
            "                                                                 \n",
            " dense_3 (Dense)             (None, 60)                3660      \n",
            "                                                                 \n",
            " dense_4 (Dense)             (None, 4)                 244       \n",
            "                                                                 \n",
            " activation (Activation)     (None, 4)                 0         \n",
            "                                                                 \n",
            "=================================================================\n",
            "Total params: 18,144\n",
            "Trainable params: 18,144\n",
            "Non-trainable params: 0\n",
            "_________________________________________________________________\n"
          ]
        }
      ]
    },
    {
      "cell_type": "code",
      "metadata": {
        "colab": {
          "base_uri": "https://localhost:8080/"
        },
        "id": "yQiMWiyKMxWm",
        "outputId": "7fe25d90-22d9-4765-9cf6-d74553a0fe4a"
      },
      "source": [
        "model.compile(loss='binary_crossentropy', optimizer='adam', metrics=['accuracy'])\n",
        "model.fit(X_train, Y_train, epochs=50, batch_size=10, verbose=2, validation_data=(X_test,Y_test))\n",
        "scores = model.evaluate(X_test, Y_test, verbose=0)"
      ],
      "execution_count": null,
      "outputs": [
        {
          "output_type": "stream",
          "name": "stdout",
          "text": [
            "Epoch 1/50\n",
            "465/465 - 2s - loss: 0.4118 - accuracy: 0.6412 - val_loss: 0.3523 - val_accuracy: 0.6924 - 2s/epoch - 5ms/step\n",
            "Epoch 2/50\n",
            "465/465 - 1s - loss: 0.3271 - accuracy: 0.7251 - val_loss: 0.3430 - val_accuracy: 0.6959 - 1s/epoch - 3ms/step\n",
            "Epoch 3/50\n",
            "465/465 - 1s - loss: 0.3065 - accuracy: 0.7316 - val_loss: 0.3341 - val_accuracy: 0.6933 - 1s/epoch - 3ms/step\n",
            "Epoch 4/50\n",
            "465/465 - 1s - loss: 0.3009 - accuracy: 0.7376 - val_loss: 0.3239 - val_accuracy: 0.7104 - 1s/epoch - 3ms/step\n",
            "Epoch 5/50\n",
            "465/465 - 1s - loss: 0.2960 - accuracy: 0.7462 - val_loss: 0.3292 - val_accuracy: 0.6951 - 1s/epoch - 3ms/step\n",
            "Epoch 6/50\n",
            "465/465 - 1s - loss: 0.2930 - accuracy: 0.7484 - val_loss: 0.3396 - val_accuracy: 0.6872 - 1s/epoch - 2ms/step\n",
            "Epoch 7/50\n",
            "465/465 - 1s - loss: 0.2892 - accuracy: 0.7520 - val_loss: 0.3370 - val_accuracy: 0.7047 - 1s/epoch - 3ms/step\n",
            "Epoch 8/50\n",
            "465/465 - 1s - loss: 0.2910 - accuracy: 0.7462 - val_loss: 0.3108 - val_accuracy: 0.7195 - 1s/epoch - 3ms/step\n",
            "Epoch 9/50\n",
            "465/465 - 1s - loss: 0.2831 - accuracy: 0.7538 - val_loss: 0.3177 - val_accuracy: 0.7261 - 1s/epoch - 3ms/step\n",
            "Epoch 10/50\n",
            "465/465 - 1s - loss: 0.2869 - accuracy: 0.7488 - val_loss: 0.3145 - val_accuracy: 0.7095 - 1s/epoch - 3ms/step\n",
            "Epoch 11/50\n",
            "465/465 - 1s - loss: 0.2811 - accuracy: 0.7480 - val_loss: 0.3482 - val_accuracy: 0.6938 - 1s/epoch - 3ms/step\n",
            "Epoch 12/50\n",
            "465/465 - 1s - loss: 0.2774 - accuracy: 0.7548 - val_loss: 0.3208 - val_accuracy: 0.7235 - 1s/epoch - 3ms/step\n",
            "Epoch 13/50\n",
            "465/465 - 1s - loss: 0.2769 - accuracy: 0.7602 - val_loss: 0.3699 - val_accuracy: 0.6400 - 1s/epoch - 3ms/step\n",
            "Epoch 14/50\n",
            "465/465 - 1s - loss: 0.2823 - accuracy: 0.7430 - val_loss: 0.3153 - val_accuracy: 0.7436 - 1s/epoch - 2ms/step\n",
            "Epoch 15/50\n",
            "465/465 - 1s - loss: 0.2732 - accuracy: 0.7581 - val_loss: 0.3417 - val_accuracy: 0.7064 - 1s/epoch - 3ms/step\n",
            "Epoch 16/50\n",
            "465/465 - 1s - loss: 0.2756 - accuracy: 0.7568 - val_loss: 0.3073 - val_accuracy: 0.7226 - 1s/epoch - 2ms/step\n",
            "Epoch 17/50\n",
            "465/465 - 1s - loss: 0.2724 - accuracy: 0.7626 - val_loss: 0.2929 - val_accuracy: 0.7453 - 1s/epoch - 3ms/step\n",
            "Epoch 18/50\n",
            "465/465 - 1s - loss: 0.2717 - accuracy: 0.7600 - val_loss: 0.3570 - val_accuracy: 0.6863 - 1s/epoch - 3ms/step\n",
            "Epoch 19/50\n",
            "465/465 - 1s - loss: 0.2736 - accuracy: 0.7587 - val_loss: 0.3419 - val_accuracy: 0.7016 - 1s/epoch - 3ms/step\n",
            "Epoch 20/50\n",
            "465/465 - 1s - loss: 0.2666 - accuracy: 0.7658 - val_loss: 0.3338 - val_accuracy: 0.6889 - 1s/epoch - 3ms/step\n",
            "Epoch 21/50\n",
            "465/465 - 1s - loss: 0.2695 - accuracy: 0.7613 - val_loss: 0.3353 - val_accuracy: 0.7160 - 1s/epoch - 3ms/step\n",
            "Epoch 22/50\n",
            "465/465 - 1s - loss: 0.2745 - accuracy: 0.7600 - val_loss: 0.3127 - val_accuracy: 0.7226 - 1s/epoch - 2ms/step\n",
            "Epoch 23/50\n",
            "465/465 - 1s - loss: 0.2647 - accuracy: 0.7678 - val_loss: 0.3441 - val_accuracy: 0.7117 - 1s/epoch - 3ms/step\n",
            "Epoch 24/50\n",
            "465/465 - 1s - loss: 0.2657 - accuracy: 0.7652 - val_loss: 0.3008 - val_accuracy: 0.7243 - 1s/epoch - 2ms/step\n",
            "Epoch 25/50\n",
            "465/465 - 1s - loss: 0.2665 - accuracy: 0.7572 - val_loss: 0.3020 - val_accuracy: 0.7270 - 1s/epoch - 2ms/step\n",
            "Epoch 26/50\n",
            "465/465 - 1s - loss: 0.2663 - accuracy: 0.7656 - val_loss: 0.2995 - val_accuracy: 0.7331 - 1s/epoch - 3ms/step\n",
            "Epoch 27/50\n",
            "465/465 - 1s - loss: 0.2681 - accuracy: 0.7622 - val_loss: 0.3001 - val_accuracy: 0.7112 - 1s/epoch - 3ms/step\n",
            "Epoch 28/50\n",
            "465/465 - 1s - loss: 0.2640 - accuracy: 0.7658 - val_loss: 0.2979 - val_accuracy: 0.7270 - 1s/epoch - 3ms/step\n",
            "Epoch 29/50\n",
            "465/465 - 1s - loss: 0.2671 - accuracy: 0.7639 - val_loss: 0.3226 - val_accuracy: 0.7156 - 1s/epoch - 2ms/step\n",
            "Epoch 30/50\n",
            "465/465 - 1s - loss: 0.2631 - accuracy: 0.7703 - val_loss: 0.2932 - val_accuracy: 0.7331 - 1s/epoch - 3ms/step\n",
            "Epoch 31/50\n",
            "465/465 - 1s - loss: 0.2643 - accuracy: 0.7658 - val_loss: 0.3312 - val_accuracy: 0.6951 - 1s/epoch - 3ms/step\n",
            "Epoch 32/50\n",
            "465/465 - 1s - loss: 0.2668 - accuracy: 0.7650 - val_loss: 0.3050 - val_accuracy: 0.7069 - 1s/epoch - 2ms/step\n",
            "Epoch 33/50\n",
            "465/465 - 1s - loss: 0.2630 - accuracy: 0.7647 - val_loss: 0.3009 - val_accuracy: 0.7239 - 1s/epoch - 3ms/step\n",
            "Epoch 34/50\n",
            "465/465 - 1s - loss: 0.2586 - accuracy: 0.7727 - val_loss: 0.2910 - val_accuracy: 0.7353 - 1s/epoch - 2ms/step\n",
            "Epoch 35/50\n",
            "465/465 - 1s - loss: 0.2610 - accuracy: 0.7742 - val_loss: 0.3148 - val_accuracy: 0.7051 - 1s/epoch - 3ms/step\n",
            "Epoch 36/50\n",
            "465/465 - 1s - loss: 0.2626 - accuracy: 0.7678 - val_loss: 0.3112 - val_accuracy: 0.7217 - 1s/epoch - 3ms/step\n",
            "Epoch 37/50\n",
            "465/465 - 1s - loss: 0.2627 - accuracy: 0.7718 - val_loss: 0.2951 - val_accuracy: 0.7182 - 1s/epoch - 2ms/step\n",
            "Epoch 38/50\n",
            "465/465 - 1s - loss: 0.2588 - accuracy: 0.7706 - val_loss: 0.3118 - val_accuracy: 0.7187 - 1s/epoch - 2ms/step\n",
            "Epoch 39/50\n",
            "465/465 - 1s - loss: 0.2597 - accuracy: 0.7734 - val_loss: 0.2922 - val_accuracy: 0.7291 - 1s/epoch - 3ms/step\n",
            "Epoch 40/50\n",
            "465/465 - 1s - loss: 0.2596 - accuracy: 0.7678 - val_loss: 0.2934 - val_accuracy: 0.7335 - 1s/epoch - 2ms/step\n",
            "Epoch 41/50\n",
            "465/465 - 1s - loss: 0.2568 - accuracy: 0.7742 - val_loss: 0.3014 - val_accuracy: 0.7160 - 1s/epoch - 3ms/step\n",
            "Epoch 42/50\n",
            "465/465 - 1s - loss: 0.2589 - accuracy: 0.7699 - val_loss: 0.3041 - val_accuracy: 0.7392 - 1s/epoch - 3ms/step\n",
            "Epoch 43/50\n",
            "465/465 - 1s - loss: 0.2594 - accuracy: 0.7665 - val_loss: 0.3211 - val_accuracy: 0.7143 - 1s/epoch - 3ms/step\n",
            "Epoch 44/50\n",
            "465/465 - 1s - loss: 0.2582 - accuracy: 0.7706 - val_loss: 0.2952 - val_accuracy: 0.7357 - 1s/epoch - 2ms/step\n",
            "Epoch 45/50\n",
            "465/465 - 1s - loss: 0.2590 - accuracy: 0.7725 - val_loss: 0.2992 - val_accuracy: 0.7331 - 1s/epoch - 3ms/step\n",
            "Epoch 46/50\n",
            "465/465 - 1s - loss: 0.2573 - accuracy: 0.7759 - val_loss: 0.3488 - val_accuracy: 0.6964 - 1s/epoch - 3ms/step\n",
            "Epoch 47/50\n",
            "465/465 - 1s - loss: 0.2608 - accuracy: 0.7654 - val_loss: 0.2937 - val_accuracy: 0.7357 - 1s/epoch - 2ms/step\n",
            "Epoch 48/50\n",
            "465/465 - 1s - loss: 0.2527 - accuracy: 0.7740 - val_loss: 0.2931 - val_accuracy: 0.7256 - 1s/epoch - 3ms/step\n",
            "Epoch 49/50\n",
            "465/465 - 1s - loss: 0.2559 - accuracy: 0.7712 - val_loss: 0.3246 - val_accuracy: 0.7208 - 1s/epoch - 3ms/step\n",
            "Epoch 50/50\n",
            "465/465 - 1s - loss: 0.2586 - accuracy: 0.7736 - val_loss: 0.3172 - val_accuracy: 0.7182 - 1s/epoch - 2ms/step\n"
          ]
        }
      ]
    },
    {
      "cell_type": "code",
      "metadata": {
        "colab": {
          "base_uri": "https://localhost:8080/"
        },
        "id": "n2J6Q57HQo5e",
        "outputId": "57091ff6-f4fd-4956-dab7-e641e81c01f5"
      },
      "source": [
        "print(\"%s: %.2f%%\" % (model.metrics_names[1], scores[1]*100))"
      ],
      "execution_count": null,
      "outputs": [
        {
          "output_type": "stream",
          "name": "stdout",
          "text": [
            "accuracy: 71.82%\n"
          ]
        }
      ]
    },
    {
      "cell_type": "code",
      "metadata": {
        "id": "UHm54QpbRBKP"
      },
      "source": [
        "json_string = model.to_json()\n",
        "open('Project_model_architecture.json', 'w').write(json_string)\n",
        "model.save_weights('Project_model_weights.h5',overwrite=True)"
      ],
      "execution_count": null,
      "outputs": []
    }
  ]
}