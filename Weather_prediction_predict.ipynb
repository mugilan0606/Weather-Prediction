{
  "nbformat": 4,
  "nbformat_minor": 0,
  "metadata": {
    "colab": {
      "name": "Weather prediction predict.ipynb",
      "provenance": [],
      "authorship_tag": "ABX9TyM696XDKYwHfc+5tOcBPDrC",
      "include_colab_link": true
    },
    "kernelspec": {
      "name": "python3",
      "display_name": "Python 3"
    },
    "language_info": {
      "name": "python"
    }
  },
  "cells": [
    {
      "cell_type": "markdown",
      "metadata": {
        "id": "view-in-github",
        "colab_type": "text"
      },
      "source": [
        "<a href=\"https://colab.research.google.com/github/mugilan0606/Weather-Prediction/blob/main/Weather_prediction_predict.ipynb\" target=\"_parent\"><img src=\"https://colab.research.google.com/assets/colab-badge.svg\" alt=\"Open In Colab\"/></a>"
      ]
    },
    {
      "cell_type": "code",
      "metadata": {
        "id": "4nknrhnaSDpd"
      },
      "source": [
        "from keras.models import model_from_json\n",
        "import numpy as np\n",
        "import matplotlib.pyplot as plt"
      ],
      "execution_count": null,
      "outputs": []
    },
    {
      "cell_type": "code",
      "metadata": {
        "id": "CW2ubEo2SpCR"
      },
      "source": [
        "pre_data = np.loadtxt('predict.txt')\n",
        "model = model_from_json(open('Project_model_architecture.json').read())\n",
        "model.load_weights('Project_model_weights.h5')"
      ],
      "execution_count": null,
      "outputs": []
    },
    {
      "cell_type": "code",
      "metadata": {
        "id": "5RlR3566TiZw"
      },
      "source": [
        "model.compile(loss='binary_crossentropy', optimizer='adam', metrics=['accuracy'])\n",
        "pre_data = pre_data.astype('int32')\n",
        "pre_data = pre_data.reshape(1,12)"
      ],
      "execution_count": null,
      "outputs": []
    },
    {
      "cell_type": "code",
      "metadata": {
        "colab": {
          "base_uri": "https://localhost:8080/"
        },
        "id": "o1wBh_LoTpqn",
        "outputId": "cf91923e-297d-4657-a414-769ba713634a"
      },
      "source": [
        "print('\\n \\t \\t \\tInputs')\n",
        "print('\\n',pre_data)"
      ],
      "execution_count": null,
      "outputs": [
        {
          "output_type": "stream",
          "name": "stdout",
          "text": [
            "\n",
            " \t \t \tInputs\n",
            "\n",
            " [[   1   21    9   12    8  100   46 1022 1018    2    0   14]]\n"
          ]
        }
      ]
    },
    {
      "cell_type": "code",
      "metadata": {
        "id": "gcLOtAhBTviK"
      },
      "source": [
        "ans = model.predict(pre_data)\n",
        "np.set_printoptions(suppress=True)"
      ],
      "execution_count": null,
      "outputs": []
    },
    {
      "cell_type": "code",
      "metadata": {
        "colab": {
          "base_uri": "https://localhost:8080/"
        },
        "id": "XuhHeM-vTzYf",
        "outputId": "ecb08fa6-2828-42e4-bb06-67c3986c7ba5"
      },
      "source": [
        "print('\\n  THUNDERSTORM\\t RAINY \\t   FOGGY    \\tSUNNY')\n",
        "print('\\n',ans)\n",
        "yy=[\"ThunderStorm\",\"Rainy\",\"Foggy\",\"Sunny\"]\n",
        "xx=[i*100 for i in ans[0]]"
      ],
      "execution_count": null,
      "outputs": [
        {
          "output_type": "stream",
          "name": "stdout",
          "text": [
            "\n",
            "  THUNDERSTORM\t RAINY \t   FOGGY    \tSUNNY\n",
            "\n",
            " [[0.00001708 0.00009006 0.9998851  0.00000775]]\n"
          ]
        }
      ]
    },
    {
      "cell_type": "code",
      "metadata": {
        "colab": {
          "base_uri": "https://localhost:8080/",
          "height": 295
        },
        "id": "wX48x3q0T3qi",
        "outputId": "9ae101c0-1b7b-4a67-ef52-bab7ea60f6fe"
      },
      "source": [
        "fig, ax = plt.subplots()\n",
        "ax.barh(yy,xx)\n",
        "ax.set(xlim=[0, 100], xlabel='Probability', ylabel='',title='Weather Prediction')\n",
        "plt.show()"
      ],
      "execution_count": null,
      "outputs": [
        {
          "output_type": "display_data",
          "data": {
            "image/png": "[encoded data removed]",
            "text/plain": [
              "<Figure size 432x288 with 1 Axes>"
            ]
          },
          "metadata": {
            "needs_background": "light"
          }
        }
      ]
    }
  ]
}